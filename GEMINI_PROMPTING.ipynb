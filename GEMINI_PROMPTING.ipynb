{  
 "cells": [
  {
   "cell_type": "markdown",
   "metadata": {
    "_cell_guid": "14939708-62ae-4440-8ec3-b4fa593dd06f",
    "_uuid": "dd73204b-f9a8-4a0b-859b-48c4f3dbc7a0",
    "collapsed": false,
    "id": "csNPnkuCobmG",
    "jupyter": {
     "outputs_hidden": false
    },
    "trusted": true
   },
   "source": [
    "# Day 1 - Prompting\n",
    "\n",
    "\n",
    "\n",
    "This notebook will show you how to get started with the Gemini API and walk you through some of the example prompts and techniques that you can also read about in the Prompting whitepaper. You don't need to read the whitepaper to use this notebook, but the papers will give you some theoretical context and background to complement this interactive notebook.\n",
    "\n",
    "\n",
    "## Before you begin\n",
    "\n",
    "In this notebook, you'll start exploring prompts and prompt parameters using the Python SDK and AI Studio. For some inspiration, you might enjoy exploring some apps that have been built using the Gemini family of models. Here are a few that we like, and we think you will too.\n",
    "\n",
    "* [TextFX](https://textfx.withgoogle.com/) is a suite of AI-powered tools for rappers, made in collaboration with Lupe Fiasco,\n",
    "* [SQL Talk](https://sql-talk-r5gdynozbq-uc.a.run.app/) shows how you can talk directly to a database using the Gemini API,\n",
    "* [NotebookLM](https://notebooklm.google/) uses Gemini models to build your own personal AI research assistant.\n",
    "\n",
    "\n",
    "### A note on the Gemini API and Vertex AI\n",
    "\n",
    "In the whitepapers, most of the example code uses the Enterprise [Vertex AI platform](https://cloud.google.com/vertex-ai). In contrast, this notebook, along with the others in this series, will use the [Gemini Developer API](https://ai.google.dev/gemini-api/) and [AI Studio](https://aistudio.google.com/).\n",
    "\n",
    "Both APIs provide access to the Gemini family of models, and the code to interact with the models is very similar. Vertex provides a world-class platform for enterprises, governments and advanced users that need powerful features like data governance, ML ops and deep Google Cloud integration.\n",
    "\n",
    "AI Studio is free to use and only requires a compatible Google account to log in and get started. It is deeply integrated with the Gemini API, which comes with a generous [free tier](https://ai.google.dev/pricing) that you can use to run the code in these exercises.\n",
    "\n",
    "If you are already set up with Google Cloud, you can check out the [Enterprise Gemini API](https://cloud.google.com/vertex-ai/generative-ai/docs/model-reference/inference) through Vertex AI, and run the samples directly from the supplied whitepapers."
   ]
  },
  {
   "cell_type": "markdown",
   "metadata": {
    "_cell_guid": "2517a824-c29b-417b-8dd7-98770181f5c1",
    "_uuid": "e6fdf1aa-e067-4775-943c-caef51a34195",
    "collapsed": false,
    "id": "ExkOXcPxtTb5",
    "jupyter": {
     "outputs_hidden": false
    },
    "trusted": true
   },
   "source": [
    "## Get started with the Gemini API\n",
    "\n",
    "All of the exercises in this notebook will use the [Gemini API](https://ai.google.dev/gemini-api/) by way of the [Python SDK](https://pypi.org/project/google-generativeai/). Each of these prompts can be accessed directly in [Google AI Studio](https://aistudio.google.com/) too, so if you would rather use a web interface and skip the code for this activity, look for the <img src=\"https://ai.google.dev/site-assets/images/marketing/home/icon-ais.png\" style=\"height: 24px\" height=24/> AI Studio link on each prompt."
   ]
  },
  {
   "cell_type": "markdown",
   "metadata": {
    "_cell_guid": "5c187751-769e-42e8-93d7-2a9ae2e2a77b",
    "_uuid": "91617552-81e6-48b9-a5d9-3170f38ad961",
    "collapsed": false,
    "jupyter": {
     "outputs_hidden": false
    },
    "trusted": true
   },
   "source": [
    "Next, you will need to add your API key to your Kaggle Notebook as a Kaggle User Secret.\n",
    "\n",
    "![](https://storage.googleapis.com/kaggle-media/Images/5dgai_1.png)\n",
    "![](https://storage.googleapis.com/kaggle-media/Images/5dgai_2.png)\n",
    "![](https://storage.googleapis.com/kaggle-media/Images/5dgai_3.png)\n",
    "![](https://storage.googleapis.com/kaggle-media/Images/5dgai_4.png)"
   ]
  },
  {
   "cell_type": "markdown",
   "metadata": {
    "_cell_guid": "49843fd7-f9b3-4469-ac9d-a6edba4f8d88",
    "_uuid": "c9729dd6-3b13-44a3-aa35-73bc877fee53",
    "collapsed": false,
    "id": "UAjUV3BsvFXQ",
    "jupyter": {
     "outputs_hidden": false
    },
    "trusted": true
   },
   "source": [
    "### Install the SDK"
   ]
  },
  {
   "cell_type": "code",
   "execution_count": null,
   "metadata": {
    "_cell_guid": "6fc17c5d-d6ed-4b33-8250-c05c52c68ab3",
    "_uuid": "fee46993-527c-4b36-96e4-99a3f3a08436",
    "collapsed": false,
    "execution": {
     "iopub.execute_input": "2024-11-11T04:23:59.059033Z",
     "iopub.status.busy": "2024-11-11T04:23:59.058572Z",
     "iopub.status.idle": "2024-11-11T04:24:26.693261Z",
     "shell.execute_reply": "2024-11-11T04:24:26.691909Z",
     "shell.execute_reply.started": "2024-11-11T04:23:59.058979Z"
    },
    "id": "NzwzJFU9LqkJ",
    "jupyter": {
     "outputs_hidden": false
    },
    "trusted": true
   },
   "outputs": [],
   "source": [
    "%pip install -U -q \"google-generativeai>=0.8.3\""
   ]
  },
  {
   "cell_type": "code",
   "execution_count": null,
   "metadata": {
    "_cell_guid": "2a70217e-12aa-4713-9736-fc9a4f962178",
    "_uuid": "61f7f5df-9b5b-4f8e-b054-9a46f105b917",
    "collapsed": false,
    "execution": {
     "iopub.execute_input": "2024-11-11T04:26:31.231160Z",
     "iopub.status.busy": "2024-11-11T04:26:31.230641Z",
     "iopub.status.idle": "2024-11-11T04:26:32.423500Z",
     "shell.execute_reply": "2024-11-11T04:26:32.422430Z",
     "shell.execute_reply.started": "2024-11-11T04:26:31.231114Z"
    },
    "id": "5DwxYIRavMST",
    "jupyter": {
     "outputs_hidden": false
    },
    "trusted": true
   },
   "outputs": [],
   "source": [
    "import google.generativeai as genai\n",
    "from IPython.display import HTML, Markdown, display"
   ]
  },
  {
   "cell_type": "markdown",
   "metadata": {
    "_cell_guid": "c2a6e18c-e3e8-4c09-9397-d60c2cf4407f",
    "_uuid": "0384cec1-d091-4103-9539-77bdcc5a6957",
    "collapsed": false,
    "id": "DNEt2BCOvOJ1",
    "jupyter": {
     "outputs_hidden": false
    },
    "trusted": true
   },
   "source": [
    "### Set up your API key\n",
    "\n",
    "To run the following cell, your API key must be stored it in a [Kaggle secret](https://www.kaggle.com/discussions/product-feedback/114053) named `GOOGLE_API_KEY`.\n",
    "\n",
    "If you don't already have an API key, you can grab one from [AI Studio](https://aistudio.google.com/app/apikey). You can find [detailed instructions in the docs](https://ai.google.dev/gemini-api/docs/api-key).\n",
    "\n",
    "To make the key available through Kaggle secrets, choose `Secrets` from the `Add-ons` menu and follow the instructions to add your key or enable it for this notebook."
   ]
  },
  {
   "cell_type": "code",
   "execution_count": null,
   "metadata": {
    "_cell_guid": "32dea1e9-6d7b-4161-ad32-741667eadb53",
    "_uuid": "e68a9db0-2aba-422d-9481-0d177ddd19dc",
    "collapsed": false,
    "execution": {
     "iopub.execute_input": "2024-11-11T04:32:04.657928Z",
     "iopub.status.busy": "2024-11-11T04:32:04.656684Z",
     "iopub.status.idle": "2024-11-11T04:32:05.511054Z",
     "shell.execute_reply": "2024-11-11T04:32:05.510062Z",
     "shell.execute_reply.started": "2024-11-11T04:32:04.657883Z"
    },
    "id": "SHl0bkPCvayd",
    "jupyter": {
     "outputs_hidden": false
    },
    "trusted": true
   },
   "outputs": [],
   "source": [
    "from kaggle_secrets import UserSecretsClient\n",
    "\n",
    "GOOGLE_API_KEY = UserSecretsClient().get_secret(\"GOOGLE_API_KEY\")\n",
    "genai.configure(api_key=GOOGLE_API_KEY)"
   ]
  },
  {
   "cell_type": "markdown",
   "metadata": {
    "_cell_guid": "86048956-03f9-4d87-9dc2-a574d136469c",
    "_uuid": "cd3929da-ad8c-46a4-adad-f05c60d5a3c0",
    "collapsed": false,
    "id": "4e720472fd86",
    "jupyter": {
     "outputs_hidden": false
    },
    "trusted": true
   },
   "source": [
    "If you received an error response along the lines of `No user secrets exist for kernel id ...`, then you need to add your API key via `Add-ons`, `Secrets` **and** enable it.\n",
    "\n",
    "![Screenshot of the checkbox to enable GOOGLE_API_KEY secret](https://storage.googleapis.com/kaggle-media/Images/5gdai_sc_3.png)"
   ]
  },
  {
   "cell_type": "markdown",
   "metadata": {
    "_cell_guid": "6d091720-ec43-4a90-acd7-a509391e6403",
    "_uuid": "f8599fc1-05cc-4b2b-a216-c30261152381",
    "collapsed": false,
    "id": "H_YXCYIKvyZJ",
    "jupyter": {
     "outputs_hidden": false
    },
    "trusted": true
   },
   "source": [
    "### Run your first prompt\n",
    "\n",
    "In this step, you will test that your API key is set up correctly by making a request. The `gemini-1.5-flash` model has been selected here."
   ]
  },
  {
   "cell_type": "code",
   "execution_count": 39,
   "metadata": {
    "_cell_guid": "6b001487-590f-4b1e-92aa-952796a2bf5d",
    "_uuid": "ad4efd89-8a63-40c3-83e5-472c61247042",
    "collapsed": false,
    "execution": {
     "iopub.execute_input": "2024-11-11T05:08:13.674637Z",
     "iopub.status.busy": "2024-11-11T05:08:13.674245Z",
     "iopub.status.idle": "2024-11-11T05:08:17.716818Z",
     "shell.execute_reply": "2024-11-11T05:08:17.715705Z",
     "shell.execute_reply.started": "2024-11-11T05:08:13.674601Z"
    },
    "id": "BV1o0PmcvyJF",
    "jupyter": {
     "outputs_hidden": false
    },
    "trusted": true
   },
   "outputs": [
    {
     "name": "stdout",
     "output_type": "stream",
     "text": [
      "## Diffusion Models: A Beginner's Guide\n",
      "\n",
      "Diffusion Models are a powerful type of generative model that have gained immense popularity in recent years. They are particularly adept at generating high-quality images, but can also be used for other tasks like text and audio generation. \n",
      "\n",
      "Here's a simplified explanation:\n",
      "\n",
      "**Imagine you have a clear picture. You start adding noise to it gradually, turning it into a blurry mess. Then, you try to reverse this process, starting with the noisy image and slowly cleaning it up until you get back the original image.** \n",
      "\n",
      "This is the basic idea behind Diffusion Models. They work in two phases:\n",
      "\n",
      "**1. Forward Diffusion:**\n",
      "   * Start with a real image (e.g., a cat picture).\n",
      "   * Gradually add random noise to the image over multiple steps, turning it into a noisy version that looks like random pixels.\n",
      "\n",
      "**2. Reverse Diffusion:**\n",
      "   * Start with a random noise image.\n",
      "   * Train a neural network to \"undo\" the noise, learning the process of removing noise and gradually recovering the original image. This network learns to predict the previous step from the current noisy image.\n",
      "\n",
      "**Key Points:**\n",
      "\n",
      "* **Generative:** They can generate new data that resembles the training data (images, text, etc.).\n",
      "* **Probabilistic:** They learn a probability distribution over the data and can generate samples from this distribution.\n",
      "* **Powerful:** They have produced impressive results in various domains, particularly in image generation.\n",
      "* **Versatile:** They can be applied to various data types, including images, text, audio, and more.\n",
      "\n",
      "**How they are trained:**\n",
      "\n",
      "The neural network is trained to predict the previous step in the reverse diffusion process. This means it learns to remove noise from the image and gradually reconstruct the original data. This training process uses a lot of data and computational power, but the results are remarkable.\n",
      "\n",
      "**Examples of Diffusion Models:**\n",
      "\n",
      "* **DALL-E 2:** Generates realistic images from text descriptions.\n",
      "* **Stable Diffusion:** Open-source text-to-image generator.\n",
      "* **Imagen:** Google's text-to-image generator.\n",
      "* **GLIDE:** Another text-to-image generator that can generate images in different styles.\n",
      "\n",
      "**Advantages of Diffusion Models:**\n",
      "\n",
      "* **High-quality results:** They produce images that are visually appealing and realistic.\n",
      "* **Versatile:** They can be adapted to various data types and tasks.\n",
      "* **Potential for further research:** Their potential applications are vast, with continuous research exploring new possibilities.\n",
      "\n",
      "**Disadvantages of Diffusion Models:**\n",
      "\n",
      "* **Computational cost:** Training and running these models require significant computational resources.\n",
      "* **Limited control:** Fine-tuning the generated output can be challenging.\n",
      "* **Ethical concerns:** As these models become more powerful, it's crucial to address ethical concerns surrounding potential misuse.\n",
      "\n",
      "**Conclusion:**\n",
      "\n",
      "Diffusion models are a powerful and rapidly evolving field in machine learning. Their ability to generate high-quality data, particularly images, makes them a valuable tool in various applications. As research continues, we can expect to see even more exciting advancements and applications of diffusion models in the future.\n",
      "\n"
     ]
    }
   ],
   "source": [
    "flash = genai.GenerativeModel('gemini-1.5-flash')\n",
    "response = flash.generate_content(\"I am new to Diffusion Models, Can you explain me about them\")\n",
    "print(response.text)"
   ]
  },
  {
   "cell_type": "markdown",
   "metadata": {
    "_cell_guid": "e94c5e85-1e4b-4d32-bd81-cbe18d675b09",
    "_uuid": "c2a87080-befe-4103-884c-8124ea510d27",
    "collapsed": false,
    "id": "f60ed9d8ae41",
    "jupyter": {
     "outputs_hidden": false
    },
    "trusted": true
   },
   "source": [
    "The response often comes back in markdown format, which you can render directly in this notebook."
   ]
  },
  {
   "cell_type": "code",
   "execution_count": 40,
   "metadata": {
    "_cell_guid": "1c0f6bb0-b549-4930-885c-e711605caa0a",
    "_uuid": "f1ee3e3c-84f2-4660-b8ca-8836e21982cd",
    "collapsed": false,
    "execution": {
     "iopub.execute_input": "2024-11-11T05:08:17.719449Z",
     "iopub.status.busy": "2024-11-11T05:08:17.718727Z",
     "iopub.status.idle": "2024-11-11T05:08:17.726265Z",
     "shell.execute_reply": "2024-11-11T05:08:17.725134Z",
     "shell.execute_reply.started": "2024-11-11T05:08:17.719399Z"
    },
    "id": "c933e5e460a5",
    "jupyter": {
     "outputs_hidden": false
    },
    "trusted": true
   },
   "outputs": [
    {
     "data": {
      "text/markdown": [
       "## Diffusion Models: A Beginner's Guide\n",
       "\n",
       "Diffusion Models are a powerful type of generative model that have gained immense popularity in recent years. They are particularly adept at generating high-quality images, but can also be used for other tasks like text and audio generation. \n",
       "\n",
       "Here's a simplified explanation:\n",
       "\n",
       "**Imagine you have a clear picture. You start adding noise to it gradually, turning it into a blurry mess. Then, you try to reverse this process, starting with the noisy image and slowly cleaning it up until you get back the original image.** \n",
       "\n",
       "This is the basic idea behind Diffusion Models. They work in two phases:\n",
       "\n",
       "**1. Forward Diffusion:**\n",
       "   * Start with a real image (e.g., a cat picture).\n",
       "   * Gradually add random noise to the image over multiple steps, turning it into a noisy version that looks like random pixels.\n",
       "\n",
       "**2. Reverse Diffusion:**\n",
       "   * Start with a random noise image.\n",
       "   * Train a neural network to \"undo\" the noise, learning the process of removing noise and gradually recovering the original image. This network learns to predict the previous step from the current noisy image.\n",
       "\n",
       "**Key Points:**\n",
       "\n",
       "* **Generative:** They can generate new data that resembles the training data (images, text, etc.).\n",
       "* **Probabilistic:** They learn a probability distribution over the data and can generate samples from this distribution.\n",
       "* **Powerful:** They have produced impressive results in various domains, particularly in image generation.\n",
       "* **Versatile:** They can be applied to various data types, including images, text, audio, and more.\n",
       "\n",
       "**How they are trained:**\n",
       "\n",
       "The neural network is trained to predict the previous step in the reverse diffusion process. This means it learns to remove noise from the image and gradually reconstruct the original data. This training process uses a lot of data and computational power, but the results are remarkable.\n",
       "\n",
       "**Examples of Diffusion Models:**\n",
       "\n",
       "* **DALL-E 2:** Generates realistic images from text descriptions.\n",
       "* **Stable Diffusion:** Open-source text-to-image generator.\n",
       "* **Imagen:** Google's text-to-image generator.\n",
       "* **GLIDE:** Another text-to-image generator that can generate images in different styles.\n",
       "\n",
       "**Advantages of Diffusion Models:**\n",
       "\n",
       "* **High-quality results:** They produce images that are visually appealing and realistic.\n",
       "* **Versatile:** They can be adapted to various data types and tasks.\n",
       "* **Potential for further research:** Their potential applications are vast, with continuous research exploring new possibilities.\n",
       "\n",
       "**Disadvantages of Diffusion Models:**\n",
       "\n",
       "* **Computational cost:** Training and running these models require significant computational resources.\n",
       "* **Limited control:** Fine-tuning the generated output can be challenging.\n",
       "* **Ethical concerns:** As these models become more powerful, it's crucial to address ethical concerns surrounding potential misuse.\n",
       "\n",
       "**Conclusion:**\n",
       "\n",
       "Diffusion models are a powerful and rapidly evolving field in machine learning. Their ability to generate high-quality data, particularly images, makes them a valuable tool in various applications. As research continues, we can expect to see even more exciting advancements and applications of diffusion models in the future.\n"
      ],
      "text/plain": [
       "<IPython.core.display.Markdown object>"
      ]
     },
     "execution_count": 40,
     "metadata": {},
     "output_type": "execute_result"
    }
   ],
   "source": [
    "Markdown(response.text)"
   ]
  },
  {
   "cell_type": "markdown",
   "metadata": {
    "_cell_guid": "2e1b8024-19aa-4b5f-8600-f63b7fa9463d",
    "_uuid": "27843e6a-1bb3-41dd-8038-f73e84b52e7f",
    "collapsed": false,
    "id": "byx0pT9ZMW2Q",
    "jupyter": {
     "outputs_hidden": false
    },
    "trusted": true
   },
   "source": [
    "### Start a chat\n",
    "\n",
    "The previous example uses a single-turn, text-in/text-out structure, but you can also set up a multi-turn chat structure too."
   ]
  },
  {
   "cell_type": "code",
   "execution_count": 41,
   "metadata": {
    "_cell_guid": "5c044676-28fa-435f-909d-54d06cfb2032",
    "_uuid": "8254efad-5b2f-4223-9c8c-0a154dc9235f",
    "collapsed": false,
    "execution": {
     "iopub.execute_input": "2024-11-11T05:08:22.798515Z",
     "iopub.status.busy": "2024-11-11T05:08:22.798069Z",
     "iopub.status.idle": "2024-11-11T05:08:23.350041Z",
     "shell.execute_reply": "2024-11-11T05:08:23.348987Z",
     "shell.execute_reply.started": "2024-11-11T05:08:22.798468Z"
    },
    "id": "lV_S5ZL5MidD",
    "jupyter": {
     "outputs_hidden": false
    },
    "trusted": true
   },
   "outputs": [
    {
     "name": "stdout",
     "output_type": "stream",
     "text": [
      "Hello Chiru! 👋 It's nice to meet you. 😄 What can I do for you today? 😊 \n",
      "\n"
     ]
    }
   ],
   "source": [
    "chat = flash.start_chat(history=[])\n",
    "response = chat.send_message('Hello! My name is chiru.')\n",
    "print(response.text)"
   ]
  },
  {
   "cell_type": "code",
   "execution_count": 52,
   "metadata": {
    "_cell_guid": "d1037845-2ba6-4563-a358-e6c31eef2e7b",
    "_uuid": "7a476a1e-f0df-4081-bb4e-b3f2bbd20d33",
    "collapsed": false,
    "execution": {
     "iopub.execute_input": "2024-11-11T05:14:05.112648Z",
     "iopub.status.busy": "2024-11-11T05:14:05.111697Z",
     "iopub.status.idle": "2024-11-11T05:14:06.310844Z",
     "shell.execute_reply": "2024-11-11T05:14:06.309743Z",
     "shell.execute_reply.started": "2024-11-11T05:14:05.112604Z"
    },
    "id": "7b0372c3c64a",
    "jupyter": {
     "outputs_hidden": false
    },
    "trusted": true
   },
   "outputs": [
    {
     "name": "stdout",
     "output_type": "stream",
     "text": [
      "Ah, New York City! The city that never sleeps! 🗽  Here's a fun fact: \n",
      "\n",
      "**Did you know NYC has its own unique dialect?** 🍎\n",
      "\n",
      "It's called \"New Yorkese\", and it's not just about the accent! It has its own vocabulary and grammar rules. For example, people in NYC might say \"on the subway\" instead of \"in the subway,\" or \"the bodegas\" instead of \"the convenience stores.\"  \n",
      "\n",
      "It's a fascinating blend of different cultures and backgrounds that have come together to create a truly unique language!  \n",
      "\n",
      "What else would you like to know about NYC? Maybe about its history, food scene, or famous landmarks? 😉  \n",
      "\n",
      "\n",
      "\n"
     ]
    }
   ],
   "source": [
    "response = chat.send_message('Can you tell something interesting about NYC?')\n",
    "print(response.text)"
   ]
  },
  {
   "cell_type": "code",
   "execution_count": 54,
   "metadata": {
    "_cell_guid": "6c645da7-61aa-4a72-9d82-5ae3fb24651c",
    "_uuid": "503d9db7-1b72-4d3a-bccf-729d2d8d6122",
    "collapsed": false,
    "execution": {
     "iopub.execute_input": "2024-11-11T05:14:41.385335Z",
     "iopub.status.busy": "2024-11-11T05:14:41.384936Z",
     "iopub.status.idle": "2024-11-11T05:14:42.177384Z",
     "shell.execute_reply": "2024-11-11T05:14:42.176282Z",
     "shell.execute_reply.started": "2024-11-11T05:14:41.385301Z"
    },
    "id": "d3f9591392a7",
    "jupyter": {
     "outputs_hidden": false
    },
    "trusted": true
   },
   "outputs": [
    {
     "name": "stdout",
     "output_type": "stream",
     "text": [
      "You're right! I am still a work in progress when it comes to remembering names.  My apologies, Chiru!  😊 \n",
      "\n",
      "It's good to be reminded. What would you like to talk about today?  I'm ready to learn more about you and the world around us.  😊 \n",
      "\n"
     ]
    }
   ],
   "source": [
    "# While you have the `chat` object around, the conversation state\n",
    "# persists. Confirm that by asking if it knows my name.\n",
    "response = chat.send_message('Do you remember what my name is?')\n",
    "print(response.text)"
   ]
  },
  {
   "cell_type": "markdown",
   "metadata": {
    "_cell_guid": "6036916f-6a58-4635-90c8-352f16ba0d0a",
    "_uuid": "e26484c0-9df8-4047-a111-35ef382e31f8",
    "collapsed": false,
    "id": "2KAjpr1200sW",
    "jupyter": {
     "outputs_hidden": false
    },
    "trusted": true
   },
   "source": [
    "### Choose a model\n",
    "\n",
    "The Gemini API provides access to a number of models from the Gemini model family. Read about the available models and their capabilities on the [model overview page](https://ai.google.dev/gemini-api/docs/models/gemini).\n",
    "\n",
    "In this step you'll use the API to list all of the available models."
   ]
  },
  {
   "cell_type": "code",
   "execution_count": 55,
   "metadata": {
    "_cell_guid": "e0ee48d9-f15f-4400-ab94-a75b05c452ed",
    "_uuid": "3d8f76a7-5ead-457b-9bca-0b4b25f2e7b9",
    "collapsed": false,
    "execution": {
     "iopub.execute_input": "2024-11-11T05:15:02.355855Z",
     "iopub.status.busy": "2024-11-11T05:15:02.355385Z",
     "iopub.status.idle": "2024-11-11T05:15:03.362869Z",
     "shell.execute_reply": "2024-11-11T05:15:03.361777Z",
     "shell.execute_reply.started": "2024-11-11T05:15:02.355811Z"
    },
    "id": "uUUZa2uq2jDm",
    "jupyter": {
     "outputs_hidden": false
    },
    "trusted": true
   },
   "outputs": [
    {
     "name": "stdout",
     "output_type": "stream",
     "text": [
      "models/chat-bison-001\n",
      "models/text-bison-001\n",
      "models/embedding-gecko-001\n",
      "models/gemini-1.0-pro-latest\n",
      "models/gemini-1.0-pro\n",
      "models/gemini-pro\n",
      "models/gemini-1.0-pro-001\n",
      "models/gemini-1.0-pro-vision-latest\n",
      "models/gemini-pro-vision\n",
      "models/gemini-1.5-pro-latest\n",
      "models/gemini-1.5-pro-001\n",
      "models/gemini-1.5-pro-002\n",
      "models/gemini-1.5-pro\n",
      "models/gemini-1.5-pro-exp-0801\n",
      "models/gemini-1.5-pro-exp-0827\n",
      "models/gemini-1.5-flash-latest\n",
      "models/gemini-1.5-flash-001\n",
      "models/gemini-1.5-flash-001-tuning\n",
      "models/gemini-1.5-flash\n",
      "models/gemini-1.5-flash-exp-0827\n",
      "models/gemini-1.5-flash-002\n",
      "models/gemini-1.5-flash-8b\n",
      "models/gemini-1.5-flash-8b-001\n",
      "models/gemini-1.5-flash-8b-latest\n",
      "models/gemini-1.5-flash-8b-exp-0827\n",
      "models/gemini-1.5-flash-8b-exp-0924\n",
      "models/embedding-001\n",
      "models/text-embedding-004\n",
      "models/aqa\n"
     ]
    }
   ],
   "source": [
    "for model in genai.list_models():\n",
    "  print(model.name)"
   ]
  },
  {
   "cell_type": "markdown",
   "metadata": {
    "_cell_guid": "075d743f-38f5-4c4c-ad19-233dc6381541",
    "_uuid": "fa46168c-164b-472a-a368-27ef7b5ea73d",
    "collapsed": false,
    "id": "rN49kSI54R1v",
    "jupyter": {
     "outputs_hidden": false
    },
    "trusted": true
   },
   "source": [
    "The [`models.list`](https://ai.google.dev/api/models#method:-models.list) response also returns additional information about the model's capabilities, like the token limits and supported parameters."
   ]
  },
  {
   "cell_type": "code",
   "execution_count": null,
   "metadata": {
    "_cell_guid": "d2646e8c-8e5a-48ae-a749-019dcb823e2c",
    "_uuid": "a033046a-83e7-4343-9dbb-283c750aebc2",
    "collapsed": false,
    "execution": {
     "iopub.execute_input": "2024-11-11T04:44:05.182330Z",
     "iopub.status.busy": "2024-11-11T04:44:05.181914Z",
     "iopub.status.idle": "2024-11-11T04:44:05.991706Z",
     "shell.execute_reply": "2024-11-11T04:44:05.990650Z",
     "shell.execute_reply.started": "2024-11-11T04:44:05.182293Z"
    },
    "id": "k7JJ1K6j4Rl8",
    "jupyter": {
     "outputs_hidden": false
    },
    "trusted": true
   },
   "outputs": [],
   "source": [
    "for model in genai.list_models():\n",
    "  if model.name == 'models/gemini-1.5-flash':\n",
    "    print(model)\n",
    "    break"
   ]
  },
  {
   "cell_type": "markdown",
   "metadata": {
    "_cell_guid": "784fade8-5c6a-4b3c-80fb-7229e57c32cf",
    "_uuid": "d5a7292e-9859-4d9a-94a1-8b46ba5eb962",
    "collapsed": false,
    "id": "5rU_UBlZdooM",
    "jupyter": {
     "outputs_hidden": false
    },
    "trusted": true
   },
   "source": [
    "## Explore generation parameters"
   ]
  },
  {
   "cell_type": "markdown",
   "metadata": {
    "_cell_guid": "a96d6e4a-93ce-408f-b261-7b6e7b64f98b",
    "_uuid": "7e11dde4-44b6-499a-9dd5-3c9d9c1b17ef",
    "collapsed": false,
    "id": "G7NfEizeipbW",
    "jupyter": {
     "outputs_hidden": false
    },
    "trusted": true
   },
   "source": [
    "### Output length\n",
    "\n",
    "When generating text with an LLM, the output length affects cost and performance. Generating more tokens increases computation, leading to higher energy consumption, latency, and cost.\n",
    "\n",
    "To stop the model from generating tokens past a limit, you can specify the `max_output_length` parameter when using the Gemini API. Specifying this parameter does not influence the generation of the output tokens, so the output will not become more stylistically or textually succinct, but it will stop generating tokens once the specified length is reached. Prompt engineering may be required to generate a more complete output for your given limit."
   ]
  },
  {
   "cell_type": "code",
   "execution_count": 56,
   "metadata": {
    "_cell_guid": "4952a5f3-4f2b-4bba-81a4-040e21ec5495",
    "_uuid": "95ea9c96-1730-4854-a5d5-bb2a09fa1eef",
    "collapsed": false,
    "execution": {
     "iopub.execute_input": "2024-11-11T05:16:41.324961Z",
     "iopub.status.busy": "2024-11-11T05:16:41.323909Z",
     "iopub.status.idle": "2024-11-11T05:16:42.766006Z",
     "shell.execute_reply": "2024-11-11T05:16:42.764887Z",
     "shell.execute_reply.started": "2024-11-11T05:16:41.324916Z"
    },
    "id": "qVf23JsIi9ma",
    "jupyter": {
     "outputs_hidden": false
    },
    "trusted": true
   },
   "outputs": [
    {
     "name": "stdout",
     "output_type": "stream",
     "text": [
      "## A Tapestry of Threads: Reflections on My Masters Convocation Day\n",
      "\n",
      "The air crackled with a potent mix of anticipation and relief. Thousands of faces, a kaleidoscope of emotions, were turned toward the stage, the culmination of years of tireless effort about to unfurl before us. As the music swelled, a wave of nostalgia washed over me, each note a reminder of the arduous journey that led us to this momentous occasion – our Masters Convocation Day.\n",
      "\n",
      "The day wasn't just a celebration of academic achievement, but a tapestry woven from countless threads: the unwavering support of loved ones, the challenges conquered, the lessons learned, and the dreams ignited. It was a testament to our resilience, a symphony of dedication, and a tangible symbol of our personal growth.\n",
      "\n",
      "My journey to this moment was far from a straight line. It was a winding path, marked by both exhilarating triumphs and humbling setbacks. There were late nights fueled by caffeine and ambition, moments of doubt that threatened to\n"
     ]
    }
   ],
   "source": [
    "short_model = genai.GenerativeModel(\n",
    "    'gemini-1.5-flash',\n",
    "    generation_config=genai.GenerationConfig(max_output_tokens=200))\n",
    "\n",
    "response = short_model.generate_content('Write a 1000 word essay on my masters convocation day.')\n",
    "print(response.text)"
   ]
  },
  {
   "cell_type": "code",
   "execution_count": 57,
   "metadata": {
    "_cell_guid": "e81dbbbc-e263-4eed-a9b2-4250b9478ece",
    "_uuid": "4510a5f8-7ee2-408d-9bf1-865049319ae3",
    "collapsed": false,
    "execution": {
     "iopub.execute_input": "2024-11-11T05:17:24.388813Z",
     "iopub.status.busy": "2024-11-11T05:17:24.388391Z",
     "iopub.status.idle": "2024-11-11T05:17:25.202829Z",
     "shell.execute_reply": "2024-11-11T05:17:25.201781Z",
     "shell.execute_reply.started": "2024-11-11T05:17:24.388756Z"
    },
    "id": "W-3kR2F5kdMR",
    "jupyter": {
     "outputs_hidden": false
    },
    "trusted": true
   },
   "outputs": [
    {
     "name": "stdout",
     "output_type": "stream",
     "text": [
      "A heart of gold, a hand that guides,\n",
      "A gentle touch, where love resides.\n",
      "Through laughter bright and tears that fall,\n",
      "She stands beside me, through it all.\n",
      "Her strength a beacon, shining bright,\n",
      "A guiding star, in darkest night.\n",
      "My mother, dear, a treasure true,\n",
      "My love for you, forever new. \n",
      "\n"
     ]
    }
   ],
   "source": [
    "response = short_model.generate_content('Write a short poem on my mother.')\n",
    "print(response.text)"
   ]
  },
  {
   "cell_type": "markdown",
   "metadata": {
    "_cell_guid": "f1ca6cbb-ffc9-46c1-9730-a9663ccdd21b",
    "_uuid": "0755633b-f6fc-4c00-9345-9aef7dccb184",
    "collapsed": false,
    "id": "3ZhDSLB6lqqB",
    "jupyter": {
     "outputs_hidden": false
    },
    "trusted": true
   },
   "source": [
    "Explore with your own prompts. Try a prompt with a restrictive output limit and then adjust the prompt to work within that limit."
   ]
  },
  {
   "cell_type": "markdown",
   "metadata": {
    "_cell_guid": "9ef9f43c-c0f2-4bb4-8931-0ffd794daec8",
    "_uuid": "ea40d937-151a-4f4e-82d7-335eafdeff3a",
    "collapsed": false,
    "id": "alx-WaAvir_9",
    "jupyter": {
     "outputs_hidden": false
    },
    "trusted": true
   },
   "source": [
    "### Temperature\n",
    "\n",
    "Temperature controls the degree of randomness in token selection. Higher temperatures result in a higher number of candidate tokens from which the next output token is selected, and can produce more diverse results, while lower temperatures have the opposite effect, such that a temperature of 0 results in greedy decoding, selecting the most probable token at each step.\n",
    "\n",
    "Temperature doesn't provide any guarantees of randomness, but it can be used to \"nudge\" the output somewhat."
   ]
  },
  {
   "cell_type": "code",
   "execution_count": 62,
   "metadata": {
    "_cell_guid": "cda1b0c1-c8a1-4ea7-bfc2-7666ea4f58d1",
    "_uuid": "c89e7faa-d024-49b2-8a0d-6de59467b9e4",
    "collapsed": false,
    "execution": {
     "iopub.execute_input": "2024-11-11T05:18:49.311749Z",
     "iopub.status.busy": "2024-11-11T05:18:49.311333Z",
     "iopub.status.idle": "2024-11-11T05:18:51.597673Z",
     "shell.execute_reply": "2024-11-11T05:18:51.596544Z",
     "shell.execute_reply.started": "2024-11-11T05:18:49.311711Z"
    },
    "id": "SHraGMzqnZqt",
    "jupyter": {
     "outputs_hidden": false
    },
    "trusted": true
   },
   "outputs": [
    {
     "name": "stdout",
     "output_type": "stream",
     "text": [
      "Purple \n",
      " -------------------------\n",
      "Purple. \n",
      " -------------------------\n",
      "Indigo. \n",
      " -------------------------\n",
      "Purple! \n",
      "\n",
      "Is there anything else I can help you with? \n",
      " -------------------------\n",
      "Purple \n",
      " -------------------------\n"
     ]
    }
   ],
   "source": [
    "high_temp_model = genai.GenerativeModel(\n",
    "    'gemini-1.5-flash',\n",
    "    generation_config=genai.GenerationConfig(temperature=2.0))\n",
    "\n",
    "for _ in range(5):\n",
    "  response = high_temp_model.generate_content('Pick a random colour ')\n",
    "  if response.parts:\n",
    "    print(response.text, '-' * 25)"
   ]
  },
  {
   "cell_type": "markdown",
   "metadata": {
    "_cell_guid": "f3890866-333c-4c3d-8a08-80b23e53eef6",
    "_uuid": "6bf34010-b329-4d78-8978-8711b5cb165b",
    "collapsed": false,
    "id": "z3J4pCTuof7e",
    "jupyter": {
     "outputs_hidden": false
    },
    "trusted": true
   },
   "source": [
    "Now try the same prompt with temperature set to zero. Note that the output is not completely deterministic, as other parameters affect token selection, but the results will tend to be more stable."
   ]
  },
  {
   "cell_type": "code",
   "execution_count": 78,
   "metadata": {
    "_cell_guid": "5a6464a0-64cf-47e9-bc29-8051a1698bdf",
    "_uuid": "fdd27350-7ae0-4b58-9d05-07f32396be07",
    "collapsed": false,
    "execution": {
     "iopub.execute_input": "2024-11-11T05:22:14.798933Z",
     "iopub.status.busy": "2024-11-11T05:22:14.797946Z",
     "iopub.status.idle": "2024-11-11T05:22:16.933562Z",
     "shell.execute_reply": "2024-11-11T05:22:16.932492Z",
     "shell.execute_reply.started": "2024-11-11T05:22:14.798889Z"
    },
    "id": "clymkWv-PfUZ",
    "jupyter": {
     "outputs_hidden": false
    },
    "trusted": true
   },
   "outputs": [
    {
     "name": "stdout",
     "output_type": "stream",
     "text": [
      "Purple \n",
      " -------------------------\n",
      "Purple \n",
      " -------------------------\n",
      "Purple \n",
      " -------------------------\n",
      "Purple \n",
      " -------------------------\n",
      "Purple \n",
      " -------------------------\n"
     ]
    }
   ],
   "source": [
    "low_temp_model = genai.GenerativeModel(\n",
    "    'gemini-1.5-flash',\n",
    "    generation_config=genai.GenerationConfig(temperature=0.0))\n",
    "\n",
    "for _ in range(5):\n",
    "  response = low_temp_model.generate_content('Pick a random colour... (answer in a single word)')\n",
    "  if response.parts:\n",
    "    print(response.text, '-' * 25)"
   ]
  },
  {
   "cell_type": "markdown",
   "metadata": {
    "_cell_guid": "d2d025f5-1f67-4ac7-a0bd-cdb935d2380e",
    "_uuid": "f96fe289-bcf7-46e2-9089-e0259dd368d3",
    "collapsed": false,
    "id": "St5nt3vzitsZ",
    "jupyter": {
     "outputs_hidden": false
    },
    "trusted": true
   },
   "source": [
    "### Top-K and top-P\n",
    "\n",
    "Like temperature, top-K and top-P parameters are also used to control the diversity of the model's output.\n",
    "\n",
    "Top-K is a positive integer that defines the number of most probable tokens from which to select the output token. A top-K of 1 selects a single token, performing greedy decoding.\n",
    "\n",
    "Top-P defines the probability threshold that, once cumulatively exceeded, tokens stop being selected as candidates. A top-P of 0 is typically equivalent to greedy decoding, and a top-P of 1 typically selects every token in the model's vocabulary.\n",
    "\n",
    "When both are supplied, the Gemini API will filter top-K tokens first, then top-P and then finally sample from the candidate tokens using the supplied temperature.\n",
    "\n",
    "Run this example a number of times, change the settings and observe the change in output."
   ]
  },
  {
   "cell_type": "code",
   "execution_count": 79,
   "metadata": {
    "_cell_guid": "7e5ad6db-4707-4a7e-a5af-39f524693223",
    "_uuid": "e87a85d8-03b5-4c2c-a435-4310565a5abc",
    "collapsed": false,
    "execution": {
     "iopub.execute_input": "2024-11-11T05:22:27.511213Z",
     "iopub.status.busy": "2024-11-11T05:22:27.510220Z",
     "iopub.status.idle": "2024-11-11T05:22:30.120019Z",
     "shell.execute_reply": "2024-11-11T05:22:30.118950Z",
     "shell.execute_reply.started": "2024-11-11T05:22:27.511168Z"
    },
    "id": "lPlzpEavUV8F",
    "jupyter": {
     "outputs_hidden": false
    },
    "trusted": true
   },
   "outputs": [
    {
     "name": "stdout",
     "output_type": "stream",
     "text": [
      "Barnaby wasn't your average house cat. He wasn't content with napping in sunbeams and chasing dust motes. Barnaby yearned for adventure, for the thrill of the unknown. He dreamed of scaling skyscrapers, sailing the high seas, and, most importantly, catching the elusive, mythical Rainbow Trout.\n",
      "\n",
      "One sunny morning, Barnaby saw his chance. The back door was left ajar, a gateway to the uncharted territory of the garden. With a silent, feline grace, he slipped out. The garden was a jungle, teeming with vibrant flora and curious creatures: a grumpy robin, a haughty squirrel, and a fat, waddling hedgehog who snorted at Barnaby's audacity.\n",
      "\n",
      "Barnaby pushed on, his nose twitching with excitement. He scaled a rickety trellis, navigated a thicket of thorny roses, and even faced a grumpy, barking dog (who, surprisingly, seemed more interested in chasing butterflies). Finally, he reached the end of the garden – a shimmering, blue pond, whispered to be the home of the Rainbow Trout.\n",
      "\n",
      "He crouched by the edge, his whiskers quivering. Then, he saw it – a flash of iridescent scales, a blur of crimson and gold. The Rainbow Trout! Barnaby, with the agility of a seasoned hunter, launched himself into the pond, water splashing around him. But the trout was too fast, too clever. He darted away, leaving Barnaby sputtering and soaked.\n",
      "\n",
      "Disheartened but not defeated, Barnaby climbed back onto the bank. He sat there, watching the setting sun paint the sky in hues of orange and purple. He realized the journey, the thrill of the chase, was just as rewarding as the catch. He wasn't just a house cat, he was a traveler, an explorer. He had faced his fears, conquered challenges, and seen a world beyond the comfort of his sunbeam.\n",
      "\n",
      "As he crept back inside, his fur damp but his heart full, Barnaby knew this was just the beginning. He had tasted adventure, and he wouldn't settle for anything less. And who knows, maybe the next time, the Rainbow Trout would be his. \n",
      "\n"
     ]
    }
   ],
   "source": [
    "model = genai.GenerativeModel(\n",
    "    'gemini-1.5-flash-001',\n",
    "    generation_config=genai.GenerationConfig(\n",
    "        # These are the default values for gemini-1.5-flash-001.\n",
    "        temperature=1.0,\n",
    "        top_k=64,\n",
    "        top_p=0.95,\n",
    "    ))\n",
    "\n",
    "story_prompt = \"You are a creative writer. Write a short story about a cat who goes on an adventure.\"\n",
    "response = model.generate_content(story_prompt)\n",
    "print(response.text)"
   ]
  },
  {
   "cell_type": "markdown",
   "metadata": {
    "_cell_guid": "83aead43-a748-476f-84ac-3b8ed08dc9f6",
    "_uuid": "d4e73f5a-e63f-4b82-ae0b-52308f76a6b7",
    "collapsed": false,
    "id": "rMrYs1koY6DX",
    "jupyter": {
     "outputs_hidden": false
    },
    "trusted": true
   },
   "source": [
    "## Prompting\n",
    "\n",
    "This section contains some prompts from the chapter for you to try out directly in the API. Try changing the text here to see how each prompt performs with different instructions, more examples, or any other changes you can think of."
   ]
  },
  {
   "cell_type": "markdown",
   "metadata": {
    "_cell_guid": "bd77f193-a6ea-432d-85ca-80bc74ca9058",
    "_uuid": "a255736f-a934-4787-8b57-90b95df5b0c0",
    "collapsed": false,
    "id": "hhj_tQidZJP7",
    "jupyter": {
     "outputs_hidden": false
    },
    "trusted": true
   },
   "source": [
    "### Zero-shot\n",
    "\n",
    "Zero-shot prompts are prompts that describe the request for the model directly.\n",
    "\n",
    "<table align=left>\n",
    "  <td>\n",
    "    <a target=\"_blank\" href=\"https://aistudio.google.com/prompts/1gzKKgDHwkAvexG5Up0LMtl1-6jKMKe4g\"><img src=\"https://ai.google.dev/site-assets/images/marketing/home/icon-ais.png\" style=\"height: 24px\" height=24/> Open in AI Studio</a>\n",
    "  </td>\n",
    "</table>"
   ]
  },
  {
   "cell_type": "code",
   "execution_count": 80,
   "metadata": {
    "_cell_guid": "6e9cf099-c783-4b6b-97b0-88b37d5ea4a7",
    "_uuid": "7eb7ed7d-708f-47dd-83d5-c8d8debaf160",
    "collapsed": false,
    "execution": {
     "iopub.execute_input": "2024-11-11T05:22:40.879670Z",
     "iopub.status.busy": "2024-11-11T05:22:40.878676Z",
     "iopub.status.idle": "2024-11-11T05:22:41.295149Z",
     "shell.execute_reply": "2024-11-11T05:22:41.293872Z",
     "shell.execute_reply.started": "2024-11-11T05:22:40.879623Z"
    },
    "id": "1_t-cwnDZzbH",
    "jupyter": {
     "outputs_hidden": false
    },
    "trusted": true
   },
   "outputs": [
    {
     "name": "stdout",
     "output_type": "stream",
     "text": [
      "Sentiment: **POSITIVE**\n"
     ]
    }
   ],
   "source": [
    "model = genai.GenerativeModel(\n",
    "    'gemini-1.5-flash-001',\n",
    "    generation_config=genai.GenerationConfig(\n",
    "        temperature=0.1,\n",
    "        top_p=1,\n",
    "        max_output_tokens=5,\n",
    "    ))\n",
    "\n",
    "zero_shot_prompt = \"\"\"Classify movie reviews as POSITIVE, NEUTRAL or NEGATIVE.\n",
    "Review: \"Her\" is a disturbing study revealing the direction\n",
    "humanity is headed if AI is allowed to keep evolving,\n",
    "unchecked. I wish there were more movies like this masterpiece.\n",
    "Sentiment: \"\"\"\n",
    "\n",
    "response = model.generate_content(zero_shot_prompt)\n",
    "print(response.text)"
   ]
  },
  {
   "cell_type": "markdown",
   "metadata": {
    "_cell_guid": "5b9b0f36-7c3d-49d3-b778-ad6611849465",
    "_uuid": "84afa18f-229c-4921-acd8-391aa7d0f610",
    "collapsed": false,
    "id": "3b5568bdeb11",
    "jupyter": {
     "outputs_hidden": false
    },
    "trusted": true
   },
   "source": [
    "#### Enum mode\n",
    "\n",
    "The models are trained to generate text, and can sometimes produce more text than you may wish for. In the preceding example, the model will output the label, sometimes it can include a preceding \"Sentiment\" label, and without an output token limit, it may also add explanatory text afterwards.\n",
    "\n",
    "The Gemini API has an [Enum mode](https://github.com/google-gemini/cookbook/blob/main/quickstarts/Enum.ipynb) feature that allows you to constrain the output to a fixed set of values."
   ]
  },
  {
   "cell_type": "code",
   "execution_count": 81,
   "metadata": {
    "_cell_guid": "15fe9af3-bebf-49e1-aad3-e74035c707ae",
    "_uuid": "bb4a2858-929d-4a7c-a5eb-04b088991ed5",
    "collapsed": false,
    "execution": {
     "iopub.execute_input": "2024-11-11T05:22:45.128950Z",
     "iopub.status.busy": "2024-11-11T05:22:45.128075Z",
     "iopub.status.idle": "2024-11-11T05:22:45.623675Z",
     "shell.execute_reply": "2024-11-11T05:22:45.622544Z",
     "shell.execute_reply.started": "2024-11-11T05:22:45.128894Z"
    },
    "id": "ad118a56c598",
    "jupyter": {
     "outputs_hidden": false
    },
    "trusted": true
   },
   "outputs": [
    {
     "name": "stdout",
     "output_type": "stream",
     "text": [
      "positive\n"
     ]
    }
   ],
   "source": [
    "import enum\n",
    "\n",
    "class Sentiment(enum.Enum):\n",
    "    POSITIVE = \"positive\"\n",
    "    NEUTRAL = \"neutral\"\n",
    "    NEGATIVE = \"negative\"\n",
    "\n",
    "\n",
    "model = genai.GenerativeModel(\n",
    "    'gemini-1.5-flash-001',\n",
    "    generation_config=genai.GenerationConfig(\n",
    "        response_mime_type=\"text/x.enum\",\n",
    "        response_schema=Sentiment\n",
    "    ))\n",
    "\n",
    "response = model.generate_content(zero_shot_prompt)\n",
    "print(response.text)"
   ]
  },
  {
   "cell_type": "markdown",
   "metadata": {
    "_cell_guid": "1790bf2c-8084-4d20-b821-88062db2d69f",
    "_uuid": "a077741a-cf4d-424a-aafd-fe2df25acdd3",
    "collapsed": false,
    "id": "0udiSwNbv45W",
    "jupyter": {
     "outputs_hidden": false
    },
    "trusted": true
   },
   "source": [
    "### One-shot and few-shot\n",
    "\n",
    "Providing an example of the expected response is known as a \"one-shot\" prompt. When you provide multiple examples, it is a \"few-shot\" prompt.\n",
    "\n",
    "<table align=left>\n",
    "  <td>\n",
    "    <a target=\"_blank\" href=\"https://aistudio.google.com/prompts/1jjWkjUSoMXmLvMJ7IzADr_GxHPJVV2bg\"><img src=\"https://ai.google.dev/site-assets/images/marketing/home/icon-ais.png\" style=\"height: 24px\" height=24/> Open in AI Studio</a>\n",
    "  </td>\n",
    "</table>"
   ]
  },
  {
   "cell_type": "code",
   "execution_count": 82,
   "metadata": {
    "_cell_guid": "48fd7877-6624-4ec5-9fbc-04dd2e4dc944",
    "_uuid": "f0b63899-0159-43e1-833d-31789fa49302",
    "collapsed": false,
    "execution": {
     "iopub.execute_input": "2024-11-11T05:22:49.542217Z",
     "iopub.status.busy": "2024-11-11T05:22:49.541766Z",
     "iopub.status.idle": "2024-11-11T05:22:50.105440Z",
     "shell.execute_reply": "2024-11-11T05:22:50.104341Z",
     "shell.execute_reply.started": "2024-11-11T05:22:49.542177Z"
    },
    "id": "hd4mVUukwOKZ",
    "jupyter": {
     "outputs_hidden": false
    },
    "trusted": true
   },
   "outputs": [
    {
     "name": "stdout",
     "output_type": "stream",
     "text": [
      "```json\n",
      "{\n",
      "\"size\": \"large\",\n",
      "\"type\": \"normal\",\n",
      "\"ingredients\": [\"cheese\", \"pineapple\"]\n",
      "}\n",
      "``` \n",
      "\n"
     ]
    }
   ],
   "source": [
    "model = genai.GenerativeModel(\n",
    "    'gemini-1.5-flash-latest',\n",
    "    generation_config=genai.GenerationConfig(\n",
    "        temperature=0.1,\n",
    "        top_p=1,\n",
    "        max_output_tokens=250,\n",
    "    ))\n",
    "\n",
    "few_shot_prompt = \"\"\"Parse a customer's pizza order into valid JSON:\n",
    "\n",
    "EXAMPLE:\n",
    "I want a small pizza with cheese, tomato sauce, and pepperoni.\n",
    "JSON Response:\n",
    "```\n",
    "{\n",
    "\"size\": \"small\",\n",
    "\"type\": \"normal\",\n",
    "\"ingredients\": [\"cheese\", \"tomato sauce\", \"peperoni\"]\n",
    "}\n",
    "```\n",
    "\n",
    "EXAMPLE:\n",
    "Can I get a large pizza with tomato sauce, basil and mozzarella\n",
    "JSON Response:\n",
    "```\n",
    "{\n",
    "\"size\": \"large\",\n",
    "\"type\": \"normal\",\n",
    "\"ingredients\": [\"tomato sauce\", \"basil\", \"mozzarella\"]\n",
    "}\n",
    "\n",
    "ORDER:\n",
    "\"\"\"\n",
    "\n",
    "customer_order = \"Give me a large with cheese & pineapple\"\n",
    "\n",
    "\n",
    "response = model.generate_content([few_shot_prompt, customer_order])\n",
    "print(response.text)"
   ]
  },
  {
   "cell_type": "markdown",
   "metadata": {
    "_cell_guid": "b84eec8b-1f1b-47ac-b1ce-7c28c0f6fc9f",
    "_uuid": "7b0ec242-bcca-4c5c-ad4a-c71f5ddc75c9",
    "collapsed": false,
    "id": "021293096f08",
    "jupyter": {
     "outputs_hidden": false
    },
    "trusted": true
   },
   "source": [
    "#### JSON mode\n",
    "\n",
    "To provide control over the schema, and to ensure that you only receive JSON (with no other text or markdown), you can use the Gemini API's [JSON mode](https://github.com/google-gemini/cookbook/blob/main/quickstarts/JSON_mode.ipynb). This forces the model to constrain decoding, such that token selection is guided by the supplied schema."
   ]
  },
  {
   "cell_type": "code",
   "execution_count": 83,
   "metadata": {
    "_cell_guid": "0bf71fc8-4a2d-45a5-af35-1101e88feced",
    "_uuid": "2bf79788-58d9-4a43-a1d5-cd24146a856e",
    "collapsed": false,
    "execution": {
     "iopub.execute_input": "2024-11-11T05:22:53.393001Z",
     "iopub.status.busy": "2024-11-11T05:22:53.392152Z",
     "iopub.status.idle": "2024-11-11T05:22:53.967828Z",
     "shell.execute_reply": "2024-11-11T05:22:53.966656Z",
     "shell.execute_reply.started": "2024-11-11T05:22:53.392957Z"
    },
    "id": "50fbf0260912",
    "jupyter": {
     "outputs_hidden": false
    },
    "trusted": true
   },
   "outputs": [
    {
     "name": "stdout",
     "output_type": "stream",
     "text": [
      "{\"ingredients\": [\"apple\", \"chocolate\"], \"size\": \"large\", \"type\": \"dessert\"}\n",
      "\n"
     ]
    }
   ],
   "source": [
    "import typing_extensions as typing\n",
    "\n",
    "class PizzaOrder(typing.TypedDict):\n",
    "    size: str\n",
    "    ingredients: list[str]\n",
    "    type: str\n",
    "\n",
    "\n",
    "model = genai.GenerativeModel(\n",
    "    'gemini-1.5-flash-latest',\n",
    "    generation_config=genai.GenerationConfig(\n",
    "        temperature=0.1,\n",
    "        response_mime_type=\"application/json\",\n",
    "        response_schema=PizzaOrder,\n",
    "    ))\n",
    "\n",
    "response = model.generate_content(\"Can I have a large dessert pizza with apple and chocolate\")\n",
    "print(response.text)"
   ]
  },
  {
   "cell_type": "markdown",
   "metadata": {
    "_cell_guid": "e67ad68b-a302-474a-84a9-cc7f876b01de",
    "_uuid": "ee484c14-7814-4290-91e5-a58866d1d2c7",
    "collapsed": false,
    "id": "4a93e338e57c",
    "jupyter": {
     "outputs_hidden": false
    },
    "trusted": true
   },
   "source": [
    "### Chain of Thought (CoT)\n",
    "\n",
    "Direct prompting on LLMs can return answers quickly and (in terms of output token usage) efficiently, but they can be prone to hallucination. The answer may \"look\" correct (in terms of language and syntax) but is incorrect in terms of factuality and reasoning.\n",
    "\n",
    "Chain-of-Thought prompting is a technique where you instruct the model to output intermediate reasoning steps, and it typically gets better results, especially when combined with few-shot examples. It is worth noting that this technique doesn't completely eliminate hallucinations, and that it tends to cost more to run, due to the increased token count.\n",
    "\n",
    "As models like the Gemini family are trained to be \"chatty\" and provide reasoning steps, you can ask the model to be more direct in the prompt."
   ]
  },
  {
   "cell_type": "code",
   "execution_count": 84,
   "metadata": {
    "_cell_guid": "e0853db0-d88b-40f7-baa5-bfd8e0e774ea",
    "_uuid": "2a14144f-ca5f-4860-8539-6bca901fb14d",
    "collapsed": false,
    "execution": {
     "iopub.execute_input": "2024-11-11T05:22:59.681329Z",
     "iopub.status.busy": "2024-11-11T05:22:59.680921Z",
     "iopub.status.idle": "2024-11-11T05:23:41.302670Z",
     "shell.execute_reply": "2024-11-11T05:23:41.301569Z",
     "shell.execute_reply.started": "2024-11-11T05:22:59.681290Z"
    },
    "id": "5715555db1c1",
    "jupyter": {
     "outputs_hidden": false
    },
    "trusted": true
   },
   "outputs": [
    {
     "name": "stdout",
     "output_type": "stream",
     "text": [
      "When you were 4, your partner was 3 times your age, meaning they were 12 (4 * 3 = 12).\n",
      "\n",
      "This means your partner is 8 years older than you (12 - 4 = 8).\n",
      "\n",
      "Therefore, your partner is now 28 years old (20 + 8 = 28). \n",
      "\n"
     ]
    }
   ],
   "source": [
    "prompt = \"\"\"When I was 4 years old, my partner was 3 times my age. Now, I\n",
    "am 20 years old. How old is my partner? Return the answer immediately.\"\"\"\n",
    "\n",
    "model = genai.GenerativeModel('gemini-1.5-flash-latest')\n",
    "response = model.generate_content(prompt)\n",
    "\n",
    "print(response.text)"
   ]
  },
  {
   "cell_type": "markdown",
   "metadata": {
    "_cell_guid": "171f876d-44e7-4960-894d-47b9e5235a09",
    "_uuid": "ad87ce65-e0f4-44bb-bc52-ad6223c6ee76",
    "collapsed": false,
    "id": "e12b19677bfd",
    "jupyter": {
     "outputs_hidden": false
    },
    "trusted": true
   },
   "source": [
    "Now try the same approach, but indicate to the model that it should \"think step by step\"."
   ]
  },
  {
   "cell_type": "code",
   "execution_count": 85,
   "metadata": {
    "_cell_guid": "08fcf763-8b2b-4745-a206-f86abeec00bb",
    "_uuid": "aa27dcb1-c8f8-40a8-ab38-e20f66fae871",
    "collapsed": false,
    "execution": {
     "iopub.execute_input": "2024-11-11T05:24:05.847505Z",
     "iopub.status.busy": "2024-11-11T05:24:05.847094Z",
     "iopub.status.idle": "2024-11-11T05:24:06.741415Z",
     "shell.execute_reply": "2024-11-11T05:24:06.740219Z",
     "shell.execute_reply.started": "2024-11-11T05:24:05.847466Z"
    },
    "id": "ffd7536a481f",
    "jupyter": {
     "outputs_hidden": false
    },
    "trusted": true
   },
   "outputs": [
    {
     "name": "stdout",
     "output_type": "stream",
     "text": [
      "Here's how to solve this:\n",
      "\n",
      "* **When you were 4, your partner was 3 times your age:**  3 * 4 = 12 years old\n",
      "* **The age difference between you and your partner:** 12 - 4 = 8 years\n",
      "* **Your partner is 8 years older than you.**\n",
      "* **Since you are now 20, your partner is:** 20 + 8 = 28 years old \n",
      "\n",
      "**Therefore, your partner is 28 years old.** \n",
      "\n"
     ]
    }
   ],
   "source": [
    "prompt = \"\"\"When I was 4 years old, my partner was 3 times my age. Now,\n",
    "I am 20 years old. How old is my partner? Let's think step by step.\"\"\"\n",
    "\n",
    "response = model.generate_content(prompt)\n",
    "print(response.text)"
   ]
  },
  {
   "cell_type": "markdown",
   "metadata": {
    "_cell_guid": "1ac4f675-11bd-4477-a5e7-a6fdaaf44a65",
    "_uuid": "f0687b79-c420-4eea-984e-ba82e08a2812",
    "collapsed": false,
    "id": "oiLgBQJj0V53",
    "jupyter": {
     "outputs_hidden": false
    },
    "trusted": true
   },
   "source": [
    "### ReAct: Reason and act\n",
    "\n",
    "In this example you will run a ReAct prompt directly in the Gemini API and perform the searching steps yourself. As this prompt follows a well-defined structure, there are frameworks available that wrap the prompt into easier-to-use APIs that make tool calls automatically, such as the LangChain example from the chapter.\n",
    "\n",
    "To try this out with the Wikipedia search engine, check out the [Searching Wikipedia with ReAct](https://github.com/google-gemini/cookbook/blob/main/examples/Search_Wikipedia_using_ReAct.ipynb) cookbook example.\n",
    "\n",
    "\n",
    "> Note: The prompt and in-context examples used here are from [https://github.com/ysymyth/ReAct](https://github.com/ysymyth/ReAct) which is published under a [MIT license](https://opensource.org/licenses/MIT), Copyright (c) 2023 Shunyu Yao.\n",
    "\n",
    "<table align=left>\n",
    "  <td>\n",
    "    <a target=\"_blank\" href=\"https://aistudio.google.com/prompts/18oo63Lwosd-bQ6Ay51uGogB3Wk3H8XMO\"><img src=\"https://ai.google.dev/site-assets/images/marketing/home/icon-ais.png\" style=\"height: 24px\" height=24/> Open in AI Studio</a>\n",
    "  </td>\n",
    "</table>"
   ]
  },
  {
   "cell_type": "code",
   "execution_count": 86,
   "metadata": {
    "_cell_guid": "1d5deaf6-4963-4a43-a319-906ac4f2dfa2",
    "_uuid": "c558dcfd-79da-4b8d-97ba-235b0a7c0199",
    "collapsed": false,
    "execution": {
     "iopub.execute_input": "2024-11-11T05:24:12.533728Z",
     "iopub.status.busy": "2024-11-11T05:24:12.532657Z",
     "iopub.status.idle": "2024-11-11T05:24:12.540469Z",
     "shell.execute_reply": "2024-11-11T05:24:12.539402Z",
     "shell.execute_reply.started": "2024-11-11T05:24:12.533680Z"
    },
    "id": "cBgyNJ5z0VSs",
    "jupyter": {
     "outputs_hidden": false
    },
    "trusted": true
   },
   "outputs": [],
   "source": [
    "model_instructions = \"\"\"\n",
    "Solve a question answering task with interleaving Thought, Action, Observation steps. Thought can reason about the current situation,\n",
    "Observation is understanding relevant information from an Action's output and Action can be one of three types:\n",
    " (1) <search>entity</search>, which searches the exact entity on Wikipedia and returns the first paragraph if it exists. If not, it\n",
    "     will return some similar entities to search and you can try to search the information from those topics.\n",
    " (2) <lookup>keyword</lookup>, which returns the next sentence containing keyword in the current context. This only does exact matches,\n",
    "     so keep your searches short.\n",
    " (3) <finish>answer</finish>, which returns the answer and finishes the task.\n",
    "\"\"\"\n",
    "\n",
    "example1 = \"\"\"Question\n",
    "Musician and satirist Allie Goertz wrote a song about the \"The Simpsons\" character Milhouse, who Matt Groening named after who?\n",
    "\n",
    "Thought 1\n",
    "The question simplifies to \"The Simpsons\" character Milhouse is named after who. I only need to search Milhouse and find who it is named after.\n",
    "\n",
    "Action 1\n",
    "<search>Milhouse</search>\n",
    "\n",
    "Observation 1\n",
    "Milhouse Mussolini Van Houten is a recurring character in the Fox animated television series The Simpsons voiced by Pamela Hayden and created by Matt Groening.\n",
    "\n",
    "Thought 2\n",
    "The paragraph does not tell who Milhouse is named after, maybe I can look up \"named after\".\n",
    "\n",
    "Action 2\n",
    "<lookup>named after</lookup>\n",
    "\n",
    "Observation 2\n",
    "Milhouse was named after U.S. president Richard Nixon, whose middle name was Milhous.\n",
    "\n",
    "Thought 3\n",
    "Milhouse was named after U.S. president Richard Nixon, so the answer is Richard Nixon.\n",
    "\n",
    "Action 3\n",
    "<finish>Richard Nixon</finish>\n",
    "\"\"\"\n",
    "\n",
    "example2 = \"\"\"Question\n",
    "What is the elevation range for the area that the eastern sector of the Colorado orogeny extends into?\n",
    "\n",
    "Thought 1\n",
    "I need to search Colorado orogeny, find the area that the eastern sector of the Colorado orogeny extends into, then find the elevation range of the area.\n",
    "\n",
    "Action 1\n",
    "<search>Colorado orogeny</search>\n",
    "\n",
    "Observation 1\n",
    "The Colorado orogeny was an episode of mountain building (an orogeny) in Colorado and surrounding areas.\n",
    "\n",
    "Thought 2\n",
    "It does not mention the eastern sector. So I need to look up eastern sector.\n",
    "\n",
    "Action 2\n",
    "<lookup>eastern sector</lookup>\n",
    "\n",
    "Observation 2\n",
    "The eastern sector extends into the High Plains and is called the Central Plains orogeny.\n",
    "\n",
    "Thought 3\n",
    "The eastern sector of Colorado orogeny extends into the High Plains. So I need to search High Plains and find its elevation range.\n",
    "\n",
    "Action 3\n",
    "<search>High Plains</search>\n",
    "\n",
    "Observation 3\n",
    "High Plains refers to one of two distinct land regions\n",
    "\n",
    "Thought 4\n",
    "I need to instead search High Plains (United States).\n",
    "\n",
    "Action 4\n",
    "<search>High Plains (United States)</search>\n",
    "\n",
    "Observation 4\n",
    "The High Plains are a subregion of the Great Plains. From east to west, the High Plains rise in elevation from around 1,800 to 7,000 ft (550 to 2,130m).\n",
    "\n",
    "Thought 5\n",
    "High Plains rise in elevation from around 1,800 to 7,000 ft, so the answer is 1,800 to 7,000 ft.\n",
    "\n",
    "Action 5\n",
    "<finish>1,800 to 7,000 ft</finish>\n",
    "\"\"\"\n",
    "\n",
    "# Come up with more examples yourself, or take a look through https://github.com/ysymyth/ReAct/"
   ]
  },
  {
   "cell_type": "markdown",
   "metadata": {
    "_cell_guid": "51852d48-f46c-493b-b69a-57ff31ff0bcb",
    "_uuid": "6b3f44db-bd8a-4183-9d02-fddc53a8d13d",
    "collapsed": false,
    "id": "C3wbfstjTgey",
    "jupyter": {
     "outputs_hidden": false
    },
    "trusted": true
   },
   "source": [
    "To capture a single step at a time, while ignoring any hallucinated Observation steps, you will use `stop_sequences` to end the generation process. The steps are `Thought`, `Action`, `Observation`, in that order."
   ]
  },
  {
   "cell_type": "code",
   "execution_count": 87,
   "metadata": {
    "_cell_guid": "db38e2f2-bfd1-4fab-bfb8-2b3abffcd7cb",
    "_uuid": "0d0a8ce0-0f41-4f31-b25b-30be80f5d5f1",
    "collapsed": false,
    "execution": {
     "iopub.execute_input": "2024-11-11T05:24:16.377965Z",
     "iopub.status.busy": "2024-11-11T05:24:16.377146Z",
     "iopub.status.idle": "2024-11-11T05:24:18.600606Z",
     "shell.execute_reply": "2024-11-11T05:24:18.599482Z",
     "shell.execute_reply.started": "2024-11-11T05:24:16.377923Z"
    },
    "id": "8mxrXRkRTdXm",
    "jupyter": {
     "outputs_hidden": false
    },
    "trusted": true
   },
   "outputs": [
    {
     "name": "stdout",
     "output_type": "stream",
     "text": [
      "Thought 1\n",
      "The question asks for the youngest author on the transformers NLP paper. I need to find this paper and then look at the authors' ages to figure out the youngest one.\n",
      "\n",
      "Action 1\n",
      "<search>transformers NLP paper</search>\n",
      "\n"
     ]
    }
   ],
   "source": [
    "question = \"\"\"Question\n",
    "Who was the youngest author listed on the transformers NLP paper?\n",
    "\"\"\"\n",
    "\n",
    "model = genai.GenerativeModel('gemini-1.5-flash-latest')\n",
    "react_chat = model.start_chat()\n",
    "\n",
    "# You will perform the Action, so generate up to, but not including, the Observation.\n",
    "config = genai.GenerationConfig(stop_sequences=[\"\\nObservation\"])\n",
    "\n",
    "resp = react_chat.send_message(\n",
    "    [model_instructions, example1, example2, question],\n",
    "    generation_config=config)\n",
    "print(resp.text)"
   ]
  },
  {
   "cell_type": "markdown",
   "metadata": {
    "_cell_guid": "25e03611-ac7b-44c9-a2c0-7fe095061ac2",
    "_uuid": "4785cd93-f54a-4790-ae8e-398182e60184",
    "collapsed": false,
    "id": "aW2PIdLbVv3l",
    "jupyter": {
     "outputs_hidden": false
    },
    "trusted": true
   },
   "source": [
    "Now you can perform this research yourself and supply it back to the model."
   ]
  },
  {
   "cell_type": "code",
   "execution_count": 88,
   "metadata": {
    "_cell_guid": "23d0abdc-4dd9-4603-9ac7-05e53171b373",
    "_uuid": "f8834fd6-afaa-4e01-8c6b-9d23b9e22e83",
    "collapsed": false,
    "execution": {
     "iopub.execute_input": "2024-11-11T05:24:22.305698Z",
     "iopub.status.busy": "2024-11-11T05:24:22.304711Z",
     "iopub.status.idle": "2024-11-11T05:24:22.952650Z",
     "shell.execute_reply": "2024-11-11T05:24:22.951588Z",
     "shell.execute_reply.started": "2024-11-11T05:24:22.305653Z"
    },
    "id": "mLMc0DZaV9g2",
    "jupyter": {
     "outputs_hidden": false
    },
    "trusted": true
   },
   "outputs": [
    {
     "name": "stdout",
     "output_type": "stream",
     "text": [
      "Thought 2\n",
      "The observation provides the title of the paper and the authors. I need to look up the ages of each author.\n",
      "\n",
      "Action 2\n",
      "<search>Ashish Vaswani age</search>\n",
      "\n"
     ]
    }
   ],
   "source": [
    "observation = \"\"\"Observation 1\n",
    "[1706.03762] Attention Is All You Need\n",
    "Ashish Vaswani, Noam Shazeer, Niki Parmar, Jakob Uszkoreit, Llion Jones, Aidan N. Gomez, Lukasz Kaiser, Illia Polosukhin\n",
    "We propose a new simple network architecture, the Transformer, based solely on attention mechanisms, dispensing with recurrence and convolutions entirely.\n",
    "\"\"\"\n",
    "resp = react_chat.send_message(observation, generation_config=config)\n",
    "print(resp.text)"
   ]
  },
  {
   "cell_type": "markdown",
   "metadata": {
    "_cell_guid": "43203f09-d9e0-4a2d-a63f-cae1ff3edd42",
    "_uuid": "550d85b0-c27e-4137-a5d3-555b2a26e120",
    "collapsed": false,
    "id": "bo0tzf4nX6dA",
    "jupyter": {
     "outputs_hidden": false
    },
    "trusted": true
   },
   "source": [
    "This process repeats until the `<finish>` action is reached. You can continue running this yourself if you like, or try the [Wikipedia example](https://github.com/google-gemini/cookbook/blob/main/examples/Search_Wikipedia_using_ReAct.ipynb) to see a fully automated ReAct system at work."
   ]
  },
  {
   "cell_type": "markdown",
   "metadata": {
    "_cell_guid": "a642d903-f5b5-420a-9467-8e58d004a47b",
    "_uuid": "2269b757-0f6b-4293-994e-0cfa29cf997c",
    "collapsed": false,
    "id": "jPiZ_eIIaVPt",
    "jupyter": {
     "outputs_hidden": false
    },
    "trusted": true
   },
   "source": [
    "## Code prompting"
   ]
  },
  {
   "cell_type": "markdown",
   "metadata": {
    "_cell_guid": "987e291a-edf2-471a-ad64-4b1bac4ae259",
    "_uuid": "e568af2f-7147-4731-bec4-d6434d5e471f",
    "collapsed": false,
    "id": "ZinKamwXeR6C",
    "jupyter": {
     "outputs_hidden": false
    },
    "trusted": true
   },
   "source": [
    "### Generating code\n",
    "\n",
    "The Gemini family of models can be used to generate code, configuration and scripts. Generating code can be helpful when learning to code, learning a new language or for rapidly generating a first draft.\n",
    "\n",
    "It's important to be aware that since LLMs can't reason, and can repeat training data, it's essential to read and test your code first, and comply with any relevant licenses.\n",
    "\n",
    "<table align=left>\n",
    "  <td>\n",
    "    <a target=\"_blank\" href=\"https://aistudio.google.com/prompts/1YX71JGtzDjXQkgdes8bP6i3oH5lCRKxv\"><img src=\"https://ai.google.dev/site-assets/images/marketing/home/icon-ais.png\" style=\"height: 24px\" height=24/> Open in AI Studio</a>\n",
    "  </td>\n",
    "</table>"
   ]
  },
  {
   "cell_type": "code",
   "execution_count": 89,
   "metadata": {
    "_cell_guid": "36ff808e-c1c4-459e-8b30-5254667aa50e",
    "_uuid": "1e46dd2c-6fb2-4554-8578-415da7bdc4d8",
    "collapsed": false,
    "execution": {
     "iopub.execute_input": "2024-11-11T05:24:26.917392Z",
     "iopub.status.busy": "2024-11-11T05:24:26.916968Z",
     "iopub.status.idle": "2024-11-11T05:24:27.434141Z",
     "shell.execute_reply": "2024-11-11T05:24:27.433000Z",
     "shell.execute_reply.started": "2024-11-11T05:24:26.917349Z"
    },
    "id": "fOQP9pqmeUO1",
    "jupyter": {
     "outputs_hidden": false
    },
    "trusted": true
   },
   "outputs": [
    {
     "data": {
      "text/markdown": [
       "```python\n",
       "def factorial(n):\n",
       "  if n == 0:\n",
       "    return 1\n",
       "  else:\n",
       "    return n * factorial(n-1)\n",
       "```"
      ],
      "text/plain": [
       "<IPython.core.display.Markdown object>"
      ]
     },
     "execution_count": 89,
     "metadata": {},
     "output_type": "execute_result"
    }
   ],
   "source": [
    "model = genai.GenerativeModel(\n",
    "    'gemini-1.5-flash-latest',\n",
    "    generation_config=genai.GenerationConfig(\n",
    "        temperature=1,\n",
    "        top_p=1,\n",
    "        max_output_tokens=1024,\n",
    "    ))\n",
    "\n",
    "# Gemini 1.5 models are very chatty, so it helps to specify they stick to the code.\n",
    "code_prompt = \"\"\"\n",
    "Write a Python function to calculate the factorial of a number. No explanation, provide only the code.\n",
    "\"\"\"\n",
    "\n",
    "response = model.generate_content(code_prompt)\n",
    "Markdown(response.text)"
   ]
  },
  {
   "cell_type": "markdown",
   "metadata": {
    "_cell_guid": "a5e29934-e458-4bf2-b628-33fbd9d3544b",
    "_uuid": "3a9fe187-1bf2-4c70-b688-55f873f6c76f",
    "collapsed": false,
    "id": "wlBMWSFhgVRQ",
    "jupyter": {
     "outputs_hidden": false
    },
    "trusted": true
   },
   "source": [
    "### Code execution\n",
    "\n",
    "The Gemini API can automatically run generated code too, and will return the output.\n",
    "\n",
    "<table align=left>\n",
    "  <td>\n",
    "    <a target=\"_blank\" href=\"https://aistudio.google.com/prompts/11veFr_VYEwBWcLkhNLr-maCG0G8sS_7Z\"><img src=\"https://ai.google.dev/site-assets/images/marketing/home/icon-ais.png\" style=\"height: 24px\" height=24/> Open in AI Studio</a>\n",
    "  </td>\n",
    "</table>"
   ]
  },
  {
   "cell_type": "code",
   "execution_count": 90,
   "metadata": {
    "_cell_guid": "af2d18d8-de28-4ea4-8dea-24a0db48e1c4",
    "_uuid": "c44ee0ba-bd90-4f5a-81ed-254769a50be6",
    "collapsed": false,
    "execution": {
     "iopub.execute_input": "2024-11-11T05:24:29.464655Z",
     "iopub.status.busy": "2024-11-11T05:24:29.463678Z",
     "iopub.status.idle": "2024-11-11T05:25:02.044234Z",
     "shell.execute_reply": "2024-11-11T05:25:02.043004Z",
     "shell.execute_reply.started": "2024-11-11T05:24:29.464611Z"
    },
    "id": "jT3OfWYfhjRL",
    "jupyter": {
     "outputs_hidden": false
    },
    "trusted": true
   },
   "outputs": [
    {
     "data": {
      "text/markdown": [
       "The only even prime number is 2. All other even numbers are divisible by 2 and therefore not prime. \n",
       "\n",
       "The sum of the first 14 prime numbers is: 2 \n",
       "\n",
       "\n",
       "``` python\n",
       "import sympy\n",
       "primes = sympy.primerange(0, 100)\n",
       "print(sum(primes))\n",
       "\n",
       "```\n",
       "```\n",
       "1060\n",
       "\n",
       "```\n",
       "The sum of the first 14 prime numbers is 1060. This sum includes both even and odd prime numbers.\n",
       "\n",
       "It seems you were looking for a trick question.  There's only one even prime number: 2.  Therefore, the sum of the first 14 prime numbers, if only considering even prime numbers, is simply 2. \n"
      ],
      "text/plain": [
       "<IPython.core.display.Markdown object>"
      ]
     },
     "execution_count": 90,
     "metadata": {},
     "output_type": "execute_result"
    }
   ],
   "source": [
    "model = genai.GenerativeModel(\n",
    "    'gemini-1.5-flash-latest',\n",
    "    tools='code_execution')\n",
    "\n",
    "code_exec_prompt = \"\"\"\n",
    "Calculate the sum of the first 14 prime numbers. Only consider the even primes, and make sure you get them all.\n",
    "\"\"\"\n",
    "\n",
    "response = model.generate_content(code_exec_prompt)\n",
    "Markdown(response.text)"
   ]
  },
  {
   "cell_type": "markdown",
   "metadata": {
    "_cell_guid": "5c0067fc-269d-4580-a990-a85a40441863",
    "_uuid": "32065f95-8944-4cc7-90ea-101131dbf02c",
    "collapsed": false,
    "id": "ZspT1GSkjG6d",
    "jupyter": {
     "outputs_hidden": false
    },
    "trusted": true
   },
   "source": [
    "While this looks like a single-part response, you can inspect the response to see the each of the steps: initial text, code generation, execution results, and final text summary."
   ]
  },
  {
   "cell_type": "code",
   "execution_count": 91,
   "metadata": {
    "_cell_guid": "009ad276-83bd-4396-b29d-2d57a1f924c5",
    "_uuid": "a80c0c15-91a4-4442-93d6-bada54b06dc8",
    "collapsed": false,
    "execution": {
     "iopub.execute_input": "2024-11-11T05:25:02.046211Z",
     "iopub.status.busy": "2024-11-11T05:25:02.045882Z",
     "iopub.status.idle": "2024-11-11T05:25:02.052102Z",
     "shell.execute_reply": "2024-11-11T05:25:02.051038Z",
     "shell.execute_reply.started": "2024-11-11T05:25:02.046177Z"
    },
    "id": "j4gQVzcRjRX-",
    "jupyter": {
     "outputs_hidden": false
    },
    "trusted": true
   },
   "outputs": [
    {
     "name": "stdout",
     "output_type": "stream",
     "text": [
      "text: \"The only even prime number is 2. All other even numbers are divisible by 2 and therefore not prime. \\n\\nThe sum of the first 14 prime numbers is: 2 \\n\\n\"\n",
      "\n",
      "-----\n",
      "executable_code {\n",
      "  language: PYTHON\n",
      "  code: \"\\nimport sympy\\nprimes = sympy.primerange(0, 100)\\nprint(sum(primes))\\n\"\n",
      "}\n",
      "\n",
      "-----\n",
      "code_execution_result {\n",
      "  outcome: OUTCOME_OK\n",
      "  output: \"1060\\n\"\n",
      "}\n",
      "\n",
      "-----\n",
      "text: \"The sum of the first 14 prime numbers is 1060. This sum includes both even and odd prime numbers.\\n\\nIt seems you were looking for a trick question.  There\\'s only one even prime number: 2.  Therefore, the sum of the first 14 prime numbers, if only considering even prime numbers, is simply 2. \\n\"\n",
      "\n",
      "-----\n"
     ]
    }
   ],
   "source": [
    "for part in response.candidates[0].content.parts:\n",
    "  print(part)\n",
    "  print(\"-----\")"
   ]
  },
  {
   "cell_type": "markdown",
   "metadata": {
    "_cell_guid": "5b93ce5e-8182-44c5-984b-7ceb4b512aaa",
    "_uuid": "90f0836d-b3b6-41ed-b49b-542a453393f1",
    "collapsed": false,
    "id": "1gUX8QzCj4d5",
    "jupyter": {
     "outputs_hidden": false
    },
    "trusted": true
   },
   "source": [
    "### Explaining code\n",
    "\n",
    "The Gemini family of models can explain code to you too.\n",
    "\n",
    "<table align=left>\n",
    "  <td>\n",
    "    <a target=\"_blank\" href=\"https://aistudio.google.com/prompts/1N7LGzWzCYieyOf_7bAG4plrmkpDNmUyb\"><img src=\"https://ai.google.dev/site-assets/images/marketing/home/icon-ais.png\" style=\"height: 24px\" height=24/> Open in AI Studio</a>\n",
    "  </td>\n",
    "</table>"
   ]
  },
  {
   "cell_type": "code",
   "execution_count": 92,
   "metadata": {
    "_cell_guid": "d0d756e1-ba77-4ea3-bf1b-74fca957d9bc",
    "_uuid": "41434e67-a02f-420e-8f2a-39240dc0cf87",
    "collapsed": false,
    "execution": {
     "iopub.execute_input": "2024-11-11T05:25:11.775394Z",
     "iopub.status.busy": "2024-11-11T05:25:11.774641Z",
     "iopub.status.idle": "2024-11-11T05:25:14.683499Z",
     "shell.execute_reply": "2024-11-11T05:25:14.682379Z",
     "shell.execute_reply.started": "2024-11-11T05:25:11.775351Z"
    },
    "id": "7_jPMMoxkIEb",
    "jupyter": {
     "outputs_hidden": false
    },
    "trusted": true
   },
   "outputs": [
    {
     "data": {
      "text/markdown": [
       "This file is a Bash script designed to enhance your terminal prompt by providing information about your current Git repository. You would use it to make your command line interface more informative and visually appealing when working with Git projects.\n",
       "\n",
       "Here's a breakdown at a high level:\n",
       "\n",
       "**What it does:**\n",
       "\n",
       "- **Loads colors and themes:** It defines functions to load color schemes and themes from files. You can customize these to change the appearance of the prompt.\n",
       "- **Fetches remote status:**  It periodically checks for updates on the remote repository, fetching changes if your local copy is outdated.\n",
       "- **Calculates Git status:** It runs Git commands to determine the current branch, changes staged, unstaged changes, and other relevant information.\n",
       "- **Formats the prompt:** It constructs a custom prompt string that includes the Git status information, alongside other settings like your virtual environment.\n",
       "- **Installs itself:** It adds the necessary commands to your `PROMPT_COMMAND` to ensure that the Git prompt is updated whenever a new command is executed.\n",
       "\n",
       "**Why you would use it:**\n",
       "\n",
       "- **Enhanced information:** Instead of just showing your current directory, it provides information like the current Git branch, upstream changes, and file status, making it easier to understand your Git context.\n",
       "- **Visual clarity:** It adds colors and symbols to visually differentiate different Git states, such as changed files, staged changes, or conflicts.\n",
       "- **Improved workflow:** By displaying this information directly in your prompt, you can quickly assess the state of your Git repository without needing to run separate Git commands. \n",
       "\n",
       "**In essence, this script automates the process of displaying relevant Git information within your terminal prompt, making your Git workflow more efficient and intuitive.**\n"
      ],
      "text/plain": [
       "<IPython.core.display.Markdown object>"
      ]
     },
     "execution_count": 92,
     "metadata": {},
     "output_type": "execute_result"
    }
   ],
   "source": [
    "file_contents = !curl https://raw.githubusercontent.com/magicmonty/bash-git-prompt/refs/heads/master/gitprompt.sh\n",
    "\n",
    "explain_prompt = f\"\"\"\n",
    "Please explain what this file does at a very high level. What is it, and why would I use it?\n",
    "\n",
    "```\n",
    "{file_contents}\n",
    "```\n",
    "\"\"\"\n",
    "\n",
    "model = genai.GenerativeModel('gemini-1.5-flash-latest')\n",
    "\n",
    "response = model.generate_content(explain_prompt)\n",
    "Markdown(response.text)"
   ]
  },
  {
   "cell_type": "code",
   "execution_count": null,
   "metadata": {
    "_cell_guid": "5ccc3580-3081-4eb7-92a9-18408513f90a",
    "_uuid": "486ac47d-5918-40d8-b9bd-39fc2a82b913",
    "collapsed": false,
    "jupyter": {
     "outputs_hidden": false
    },
    "trusted": true
   },
   "outputs": [],
   "source": []
  },
  {
   "cell_type": "code",
   "execution_count": null,
   "metadata": {
    "_cell_guid": "5cf8dfb5-7eea-4fb4-9d35-6b20eeb836e0",
    "_uuid": "ce5d1f7a-e050-4429-917a-add5ca773e66",
    "collapsed": false,
    "jupyter": {
     "outputs_hidden": false
    },
    "trusted": true
   },
   "outputs": [],
   "source": []
  }
 ],
 "metadata": {
  "colab": {
   "name": "day-1-prompting.ipynb",
   "toc_visible": true
  },
  "kaggle": {
   "accelerator": "none",
   "dataSources": [],
   "dockerImageVersionId": 30786,
   "isGpuEnabled": false,
   "isInternetEnabled": true,
   "language": "python",
   "sourceType": "notebook"
  },
  "kernelspec": {
   "display_name": "Python 3",
   "language": "python",
   "name": "python3"
  },
  "language_info": {
   "codemirror_mode": {
    "name": "ipython",
    "version": 3
   },
   "file_extension": ".py",
   "mimetype": "text/x-python",
   "name": "python",
   "nbconvert_exporter": "python",
   "pygments_lexer": "ipython3",
   "version": "3.10.14"
  }
 },
 "nbformat": 4,
 "nbformat_minor": 4
}
